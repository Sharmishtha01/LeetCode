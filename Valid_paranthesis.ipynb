{
 "cells": [
  {
   "cell_type": "code",
   "execution_count": 6,
   "metadata": {},
   "outputs": [
    {
     "name": "stdout",
     "output_type": "stream",
     "text": [
      "True\n",
      "False\n",
      "True\n"
     ]
    }
   ],
   "source": [
    "class Solution():\n",
    "    def isValid(self, s):\n",
    "        \"\"\"\n",
    "        :type s: str\n",
    "        :rtype: bool\n",
    "        \"\"\"\n",
    "        lst = []\n",
    "        paran ={\"(\": \")\", \"{\": \"}\", \"[\": \"]\"}\n",
    "        for parenthese in s:\n",
    "            if parenthese in paran:\n",
    "                lst.append(parenthese)\n",
    "            elif len(lst) == 0 or paran[lst.pop()] != parenthese:\n",
    "                return False\n",
    "        return len(lst) == 0\n",
    "obj = Solution()\n",
    "print(obj.isValid(\"(){}[]\"))\n",
    "print(obj.isValid(\"()[{)}\"))\n",
    "print(obj.isValid(\"()\"))"
   ]
  },
  {
   "cell_type": "code",
   "execution_count": null,
   "metadata": {},
   "outputs": [],
   "source": []
  },
  {
   "cell_type": "code",
   "execution_count": null,
   "metadata": {},
   "outputs": [],
   "source": []
  }
 ],
 "metadata": {
  "kernelspec": {
   "display_name": "Python 3",
   "language": "python",
   "name": "python3"
  },
  "language_info": {
   "codemirror_mode": {
    "name": "ipython",
    "version": 3
   },
   "file_extension": ".py",
   "mimetype": "text/x-python",
   "name": "python",
   "nbconvert_exporter": "python",
   "pygments_lexer": "ipython3",
   "version": "3.7.4"
  }
 },
 "nbformat": 4,
 "nbformat_minor": 2
}
