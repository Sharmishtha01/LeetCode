{
 "cells": [
  {
   "cell_type": "code",
   "execution_count": 1,
   "metadata": {},
   "outputs": [],
   "source": [
    "def removeDuplicates(arr, n): \n",
    "  \n",
    "    # Return, if array is  \n",
    "    # empty or contains \n",
    "    # a single element \n",
    "    if n == 0 or n == 1: \n",
    "        return n \n",
    "  \n",
    "    temp = list(range(n)) \n",
    "  \n",
    "    # Start traversing elements \n",
    "    j = 0; \n",
    "    for i in range(0, n-1): \n",
    "  \n",
    "        # If current element is \n",
    "        # not equal to next \n",
    "        # element then store that \n",
    "        # current element \n",
    "        if arr[i] != arr[i+1]: \n",
    "            temp[j] = arr[i] \n",
    "            j += 1\n",
    "  \n",
    "    # Store the last element \n",
    "    # as whether it is unique \n",
    "    # or repeated, it hasn't \n",
    "    # stored previously \n",
    "    temp[j] = arr[n-1] \n",
    "    j += 1\n",
    "      \n",
    "    # Modify original array \n",
    "    for i in range(0, j): \n",
    "        arr[i] = temp[i] \n",
    "  \n",
    "    return j "
   ]
  },
  {
   "cell_type": "code",
   "execution_count": 2,
   "metadata": {},
   "outputs": [
    {
     "name": "stdout",
     "output_type": "stream",
     "text": [
      "1 2 3 4 5 "
     ]
    }
   ],
   "source": [
    "# Driver code \n",
    "arr = [1, 2, 2, 3, 4, 4, 4, 5, 5] \n",
    "n = len(arr) \n",
    "  \n",
    "# removeDuplicates() returns \n",
    "# new size of array. \n",
    "n = removeDuplicates(arr, n) \n",
    "  \n",
    "# Print updated array \n",
    "for i in range(n): \n",
    "    print (\"%d\"%(arr[i]), end = \" \") "
   ]
  },
  {
   "cell_type": "code",
   "execution_count": null,
   "metadata": {},
   "outputs": [],
   "source": []
  }
 ],
 "metadata": {
  "kernelspec": {
   "display_name": "Python 3",
   "language": "python",
   "name": "python3"
  },
  "language_info": {
   "codemirror_mode": {
    "name": "ipython",
    "version": 3
   },
   "file_extension": ".py",
   "mimetype": "text/x-python",
   "name": "python",
   "nbconvert_exporter": "python",
   "pygments_lexer": "ipython3",
   "version": "3.7.4"
  }
 },
 "nbformat": 4,
 "nbformat_minor": 2
}
