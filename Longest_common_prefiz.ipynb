{
 "cells": [
  {
   "cell_type": "code",
   "execution_count": 5,
   "metadata": {},
   "outputs": [
    {
     "name": "stdout",
     "output_type": "stream",
     "text": [
      "st\n"
     ]
    }
   ],
   "source": [
    "class Solution(object):\n",
    "    def longestCommonPrefix(self, strs):\n",
    "        \"\"\"\n",
    "        :type strs: List[str]\n",
    "        :rtype: str\n",
    "        \"\"\"\n",
    "        if len(strs) == 0:\n",
    "            return \"\"\n",
    "        current = strs[0]\n",
    "        for i in range(1,len(strs)):\n",
    "            temp = \"\"\n",
    "            if len(current) == 0:\n",
    "                break\n",
    "            for j in range(len(strs[i])):\n",
    "                if j<len(current) and current[j] == strs[i][j]:\n",
    "                    temp+=current[j]\n",
    "                else:\n",
    "                    break\n",
    "            current = temp\n",
    "        return current\n",
    "lst = ['stack','sting','stcial','stick']\n",
    "ob1 = Solution()\n",
    "print(ob1.longestCommonPrefix(lst))\n"
   ]
  },
  {
   "cell_type": "code",
   "execution_count": null,
   "metadata": {},
   "outputs": [],
   "source": []
  }
 ],
 "metadata": {
  "kernelspec": {
   "display_name": "Python 3",
   "language": "python",
   "name": "python3"
  },
  "language_info": {
   "codemirror_mode": {
    "name": "ipython",
    "version": 3
   },
   "file_extension": ".py",
   "mimetype": "text/x-python",
   "name": "python",
   "nbconvert_exporter": "python",
   "pygments_lexer": "ipython3",
   "version": "3.7.4"
  }
 },
 "nbformat": 4,
 "nbformat_minor": 2
}
